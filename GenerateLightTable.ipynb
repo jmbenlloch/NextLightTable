{
 "cells": [
  {
   "cell_type": "markdown",
   "metadata": {},
   "source": [
    "<p style=\"font-family: Arial; font-size:3.75em;color:purple; font-style:bold\"><br>\n",
    "LIGHT TABLE - GENERATION</p><br>"
   ]
  },
  {
   "cell_type": "markdown",
   "metadata": {},
   "source": [
    "This notebook generate Light Tables based on nexus full-simulations of light, generating a DataFrame that should be used by DetSim."
   ]
  },
  {
   "cell_type": "markdown",
   "metadata": {},
   "source": [
    "TAREAS POR IMPLEMENTAR:\n",
    "\n",
    "* Descripcion de lo que hace cada una de las funciones y sus parametros\n",
    "* Anyadir Tablas de Configuracion a la salida\n",
    "* Leer el setup de un fichero de configuracion\n",
    "* Anyadir tests\n",
    "* Posibilidad de muestrear los volumenes / areas con un patron asimetrico (mas denso a radios altos, para reflejar mejor los cambios que se producen cerca de los bordes).\n",
    "* Hacer el setting de IC y de NEXUS desde las funciones, no desde el terminal\n",
    "* Anyadir tests de que las simulaciones han corrido bien en las colas."
   ]
  },
  {
   "cell_type": "code",
   "execution_count": 1,
   "metadata": {},
   "outputs": [
    {
     "data": {
      "text/html": [
       "<style>body {\n",
       "    margin: 0;\n",
       "    font-family: Helvetica;\n",
       "}\n",
       "table.dataframe {\n",
       "    border-collapse: collapse;\n",
       "    border: none;\n",
       "}\n",
       "table.dataframe tr {\n",
       "    border: none;\n",
       "}\n",
       "table.dataframe td, table.dataframe th {\n",
       "    margin: 0;\n",
       "    border: 1px solid white;\n",
       "    padding-left: 0.25em;\n",
       "    padding-right: 0.25em;\n",
       "}\n",
       "table.dataframe th:not(:empty) {\n",
       "    background-color: #fec;\n",
       "    text-align: left;\n",
       "    font-weight: normal;\n",
       "}\n",
       "table.dataframe tr:nth-child(2) th:empty {\n",
       "    border-left: none;\n",
       "    border-right: 1px dashed #888;\n",
       "}\n",
       "table.dataframe td {\n",
       "    border: 2px solid #ccf;\n",
       "    background-color: #f4f4ff;\n",
       "}\n",
       "h3 {\n",
       "    color: white;\n",
       "    background-color: black;\n",
       "    padding: 0.5em;\n",
       "}\n",
       "</style>"
      ],
      "text/plain": [
       "<IPython.core.display.HTML object>"
      ]
     },
     "execution_count": 1,
     "metadata": {},
     "output_type": "execute_result"
    }
   ],
   "source": [
    "from IPython.core.display import HTML\n",
    "css = open('css/style-table.css').read() + open('css/style-notebook.css').read()\n",
    "HTML('<style>{}</style>'.format(css))"
   ]
  },
  {
   "cell_type": "code",
   "execution_count": 2,
   "metadata": {},
   "outputs": [],
   "source": [
    "# General importings\n",
    "import os\n",
    "import numpy  as np\n",
    "import pandas as pd\n",
    "\n",
    "from typing import Tuple\n",
    "from math   import ceil\n",
    "\n",
    "# Specific IC stuff\n",
    "import invisible_cities.core.system_of_units  as units\n",
    "from invisible_cities.io.mcinfo_io        import load_mcsensor_response_df\n",
    "from invisible_cities.io.mcinfo_io        import get_sensor_types\n",
    "\n",
    "# Light Table stuff\n",
    "from sim_functions       import make_init_file\n",
    "from sim_functions       import make_config_file\n",
    "from sim_functions       import run_sim\n",
    "from sim_functions       import get_num_photons\n",
    "\n",
    "from table_functions     import get_table_positions\n",
    "from table_functions     import get_working_paths\n",
    "from table_functions     import build_table\n",
    "from table_functions     import get_fnames\n",
    "from table_functions     import get_table_fname\n"
   ]
  },
  {
   "cell_type": "code",
   "execution_count": 3,
   "metadata": {},
   "outputs": [],
   "source": [
    "%load_ext autoreload\n",
    "%autoreload 2"
   ]
  },
  {
   "cell_type": "markdown",
   "metadata": {},
   "source": [
    "# SETUP DATA"
   ]
  },
  {
   "cell_type": "code",
   "execution_count": 4,
   "metadata": {},
   "outputs": [],
   "source": [
    "VERBOSITY = True"
   ]
  },
  {
   "cell_type": "code",
   "execution_count": 7,
   "metadata": {},
   "outputs": [],
   "source": [
    "MAX_PHOTONS_PER_EVT = 100000"
   ]
  },
  {
   "cell_type": "code",
   "execution_count": 8,
   "metadata": {},
   "outputs": [
    {
     "name": "stdout",
     "output_type": "stream",
     "text": [
      "***** Generating NEXT_NEW Light Table  *****\n",
      "\n",
      "*** Type: tracking  -  Signal: S2  -  Sensor: SiPM\n",
      "*** Pitch: (30.0, 30.0, 1.0) mm - Photons/Point = 1.0e+05\n"
     ]
    }
   ],
   "source": [
    "### Current options: \"NEXT_NEW\", \"NEXT100\", \"NEXT_FLEX\"\n",
    "det_name = \"NEXT_NEW\"\n",
    "\n",
    "### Type of Light Table: energy or tracking\n",
    "table_type = \"tracking\"\n",
    "\n",
    "### Signal Type: S1 or S2\n",
    "signal_type = \"S2\"\n",
    "\n",
    "\n",
    "### Sensor name.\n",
    "# Tipically PmtR11410 for energy tables and SiPM for tracking tables. \n",
    "#sensor_name = \"PmtR11410\"\n",
    "sensor_name = \"SiPM\"\n",
    "\n",
    "### Table pitch\n",
    "#pitch = (200.0 * units.mm, 200.0 * units.mm, 200.0 * units.mm)\n",
    "#pitch = (20.0 * units.mm, 20.0 * units.mm, 40.0 * units.mm)\n",
    "pitch = (30.0 * units.mm, 30.0 * units.mm, 1.0 * units.mm)\n",
    "#pitch = (1.0 * units.mm, 1.0 * units.mm, 1.0 * units.mm)\n",
    "\n",
    "### Table num photons / point\n",
    "photons_per_point = 100000\n",
    "\n",
    "\n",
    "### Verbosity\n",
    "if VERBOSITY:\n",
    "    print(f\"***** Generating {det_name} Light Table  *****\\n\")\n",
    "    print(f\"*** Type: {table_type}  -  Signal: {signal_type}  -  Sensor: {sensor_name}\")\n",
    "    print(f\"*** Pitch: {pitch} mm - Photons/Point = {photons_per_point:.1e}\")"
   ]
  },
  {
   "cell_type": "code",
   "execution_count": 9,
   "metadata": {},
   "outputs": [
    {
     "name": "stdout",
     "output_type": "stream",
     "text": [
      "*** 10 Events/Point of 1.0e+04 photons ...\n",
      "    -> 1.0e+05 Photons/Point\n"
     ]
    }
   ],
   "source": [
    "# Getting (num_evts / file) & num_evts\n",
    "num_evts          = 1\n",
    "photons_per_event = photons_per_point\n",
    "\n",
    "if photons_per_event > MAX_PHOTONS_PER_EVT:\n",
    "    num_evts          = ceil(photons_per_point / MAX_PHOTONS_PER_EVT)\n",
    "    photons_per_event = MAX_PHOTONS_PER_EVT\n",
    "    photons_per_point = num_evts * photons_per_event\n",
    "\n",
    "    if VERBOSITY:\n",
    "        print(f\"*** {num_evts} Events/Point of {photons_per_event:.1e} photons ...\")\n",
    "        print(f\"    -> {photons_per_point:.1e} Photons/Point\")\n",
    "\n",
    "else:\n",
    "    if VERBOSITY:\n",
    "        print(f\"*** Photons/Event: {photons_per_event:.1e}\")"
   ]
  },
  {
   "cell_type": "code",
   "execution_count": 10,
   "metadata": {},
   "outputs": [
    {
     "name": "stdout",
     "output_type": "stream",
     "text": [
      "*** 18 points ...\n",
      "[(25.0, 25.0, -0.5), (25.0, 25.0, -1.5), (25.0, 25.0, -2.5), (25.0, 25.0, -3.5), (25.0, 25.0, -4.5), (25.0, 25.0, -5.5), (55.0, 25.0, -0.5), (55.0, 25.0, -1.5), (55.0, 25.0, -2.5), (55.0, 25.0, -3.5), (55.0, 25.0, -4.5), (55.0, 25.0, -5.5), (85.0, 25.0, -0.5), (85.0, 25.0, -1.5), (85.0, 25.0, -2.5), (85.0, 25.0, -3.5), (85.0, 25.0, -4.5), (85.0, 25.0, -5.5)]\n"
     ]
    }
   ],
   "source": [
    "table_positions = get_table_positions(det_name, table_type, signal_type, pitch)\n",
    "\n",
    "# Vervosity\n",
    "if VERBOSITY:\n",
    "    print(f\"*** {len(table_positions)} points ...\")\n",
    "    print(table_positions)"
   ]
  },
  {
   "cell_type": "code",
   "execution_count": 11,
   "metadata": {},
   "outputs": [
    {
     "name": "stdout",
     "output_type": "stream",
     "text": [
      "* Config PATH: /Users/Javi/Development/NextLightTable/data/NEXT_NEW/config/\n",
      "* Log    PATH: /Users/Javi/Development/NextLightTable/data/NEXT_NEW/log/\n",
      "* Dst    PATH: /Users/Javi/Development/NextLightTable/data/NEXT_NEW/dst/\n",
      "* Table  PATH: /Users/Javi/Development/NextLightTable/data/NEXT_NEW/table/\n"
     ]
    }
   ],
   "source": [
    "# Getting PATHS\n",
    "config_path, log_path, dst_path, table_path = get_working_paths(det_name)\n",
    "\n",
    "# Verbosity\n",
    "if VERBOSITY:\n",
    "    print(f\"* Config PATH: {config_path}\")\n",
    "    print(f\"* Log    PATH: {log_path}\")\n",
    "    print(f\"* Dst    PATH: {dst_path}\")\n",
    "    print(f\"* Table  PATH: {table_path}\")"
   ]
  },
  {
   "cell_type": "markdown",
   "metadata": {},
   "source": [
    "# LIGHT SIMULATIONS"
   ]
  },
  {
   "cell_type": "code",
   "execution_count": 12,
   "metadata": {},
   "outputs": [
    {
     "name": "stdout",
     "output_type": "stream",
     "text": [
      "* Runing NEXT_NEW sim of 1.0e+05 photons from (25.0, 25.0, -0.5) ...\n",
      "* Runing NEXT_NEW sim of 1.0e+05 photons from (25.0, 25.0, -1.5) ...\n",
      "* Runing NEXT_NEW sim of 1.0e+05 photons from (25.0, 25.0, -2.5) ...\n",
      "* Runing NEXT_NEW sim of 1.0e+05 photons from (25.0, 25.0, -3.5) ...\n",
      "* Runing NEXT_NEW sim of 1.0e+05 photons from (25.0, 25.0, -4.5) ...\n",
      "* Runing NEXT_NEW sim of 1.0e+05 photons from (25.0, 25.0, -5.5) ...\n",
      "* Runing NEXT_NEW sim of 1.0e+05 photons from (55.0, 25.0, -0.5) ...\n",
      "* Runing NEXT_NEW sim of 1.0e+05 photons from (55.0, 25.0, -1.5) ...\n",
      "* Runing NEXT_NEW sim of 1.0e+05 photons from (55.0, 25.0, -2.5) ...\n",
      "* Runing NEXT_NEW sim of 1.0e+05 photons from (55.0, 25.0, -3.5) ...\n",
      "* Runing NEXT_NEW sim of 1.0e+05 photons from (55.0, 25.0, -4.5) ...\n",
      "* Runing NEXT_NEW sim of 1.0e+05 photons from (55.0, 25.0, -5.5) ...\n",
      "* Runing NEXT_NEW sim of 1.0e+05 photons from (85.0, 25.0, -0.5) ...\n",
      "* Runing NEXT_NEW sim of 1.0e+05 photons from (85.0, 25.0, -1.5) ...\n",
      "* Runing NEXT_NEW sim of 1.0e+05 photons from (85.0, 25.0, -2.5) ...\n",
      "* Runing NEXT_NEW sim of 1.0e+05 photons from (85.0, 25.0, -3.5) ...\n",
      "* Runing NEXT_NEW sim of 1.0e+05 photons from (85.0, 25.0, -4.5) ...\n",
      "* Runing NEXT_NEW sim of 1.0e+05 photons from (85.0, 25.0, -5.5) ...\n"
     ]
    }
   ],
   "source": [
    "for pos in table_positions:\n",
    "    \n",
    "    # file names\n",
    "    init_fname, config_fname, log_fname, dst_fname = get_fnames(det_name ,pos)\n",
    "\n",
    "    # make configuration files\n",
    "    make_init_file(det_name, init_fname, config_fname)\n",
    "    \n",
    "    make_config_file(det_name, config_fname, dst_fname,\n",
    "                     pos[0], pos[1], pos[2],\n",
    "                     photons_per_event)\n",
    "    \n",
    "    # Runing the simulation\n",
    "    if VERBOSITY:\n",
    "        print(f\"* Runing {det_name} sim of {photons_per_point:.1e} photons from {pos} ...\")\n",
    "        \n",
    "    # Check if the sim is already run with the correct num_photons\n",
    "    if os.path.isfile(dst_fname + '.h5'):\n",
    "        run_photons = get_num_photons(dst_fname + '.h5')\n",
    "        if (get_num_photons(dst_fname + '.h5') < photons_per_point):\n",
    "            print(\"  Simulation already run previously with less events, so re-running ...\")\n",
    "            run_sim(init_fname, log_fname, num_evts)\n",
    "        else:\n",
    "            print(\"  Simulation already run previously, so skipping ...\")\n",
    "    \n",
    "    else:\n",
    "        run_sim(init_fname, log_fname, num_evts)"
   ]
  },
  {
   "cell_type": "code",
   "execution_count": null,
   "metadata": {},
   "outputs": [],
   "source": []
  },
  {
   "cell_type": "markdown",
   "metadata": {},
   "source": [
    "# TABLE GENERATION"
   ]
  },
  {
   "cell_type": "code",
   "execution_count": 13,
   "metadata": {},
   "outputs": [
    {
     "name": "stdout",
     "output_type": "stream",
     "text": [
      "\n",
      "* Getting data from NEXT_NEW - Distance: (0.0, -1.0) ...\n",
      "  /Users/Javi/Development/NextLightTable/data/NEXT_NEW/dst/NEXT_NEW.x_25.0.y_25.0.z_-0.5.next.h5\n",
      "  Simulation run with    100000 initial photons.\n",
      "  Charge:      4 -> Sensor prob: 4.000e-05\n",
      "\n",
      "* Getting data from NEXT_NEW - Distance: (0.0, -2.0) ...\n",
      "  /Users/Javi/Development/NextLightTable/data/NEXT_NEW/dst/NEXT_NEW.x_25.0.y_25.0.z_-1.5.next.h5\n",
      "  Simulation run with    100000 initial photons.\n",
      "  Charge:      7 -> Sensor prob: 7.000e-05\n",
      "\n",
      "* Getting data from NEXT_NEW - Distance: (0.0, -3.0) ...\n",
      "  /Users/Javi/Development/NextLightTable/data/NEXT_NEW/dst/NEXT_NEW.x_25.0.y_25.0.z_-2.5.next.h5\n",
      "  Simulation run with    100000 initial photons.\n",
      "  Charge:      5 -> Sensor prob: 5.000e-05\n",
      "\n",
      "* Getting data from NEXT_NEW - Distance: (0.0, -4.0) ...\n",
      "  /Users/Javi/Development/NextLightTable/data/NEXT_NEW/dst/NEXT_NEW.x_25.0.y_25.0.z_-3.5.next.h5\n",
      "  Simulation run with    100000 initial photons.\n",
      "  Charge:     14 -> Sensor prob: 1.400e-04\n",
      "\n",
      "* Getting data from NEXT_NEW - Distance: (0.0, -5.0) ...\n",
      "  /Users/Javi/Development/NextLightTable/data/NEXT_NEW/dst/NEXT_NEW.x_25.0.y_25.0.z_-4.5.next.h5\n",
      "  Simulation run with    100000 initial photons.\n",
      "  Charge:     14 -> Sensor prob: 1.400e-04\n",
      "\n",
      "* Getting data from NEXT_NEW - Distance: (0.0, -6.0) ...\n",
      "  /Users/Javi/Development/NextLightTable/data/NEXT_NEW/dst/NEXT_NEW.x_25.0.y_25.0.z_-5.5.next.h5\n",
      "  Simulation run with    100000 initial photons.\n",
      "  Charge:     17 -> Sensor prob: 1.700e-04\n",
      "\n",
      "* Getting data from NEXT_NEW - Distance: (30.0, -1.0) ...\n",
      "  /Users/Javi/Development/NextLightTable/data/NEXT_NEW/dst/NEXT_NEW.x_55.0.y_25.0.z_-0.5.next.h5\n",
      "  Simulation run with    100000 initial photons.\n",
      "  Charge:      0 -> Sensor prob: 0.000e+00\n",
      "\n",
      "* Getting data from NEXT_NEW - Distance: (30.0, -2.0) ...\n",
      "  /Users/Javi/Development/NextLightTable/data/NEXT_NEW/dst/NEXT_NEW.x_55.0.y_25.0.z_-1.5.next.h5\n",
      "  Simulation run with    100000 initial photons.\n",
      "  Charge:      0 -> Sensor prob: 0.000e+00\n",
      "\n",
      "* Getting data from NEXT_NEW - Distance: (30.0, -3.0) ...\n",
      "  /Users/Javi/Development/NextLightTable/data/NEXT_NEW/dst/NEXT_NEW.x_55.0.y_25.0.z_-2.5.next.h5\n",
      "  Simulation run with    100000 initial photons.\n",
      "  Charge:      0 -> Sensor prob: 0.000e+00\n",
      "\n",
      "* Getting data from NEXT_NEW - Distance: (30.0, -4.0) ...\n",
      "  /Users/Javi/Development/NextLightTable/data/NEXT_NEW/dst/NEXT_NEW.x_55.0.y_25.0.z_-3.5.next.h5\n",
      "  Simulation run with    100000 initial photons.\n",
      "  Charge:      0 -> Sensor prob: 0.000e+00\n",
      "\n",
      "* Getting data from NEXT_NEW - Distance: (30.0, -5.0) ...\n",
      "  /Users/Javi/Development/NextLightTable/data/NEXT_NEW/dst/NEXT_NEW.x_55.0.y_25.0.z_-4.5.next.h5\n",
      "  Simulation run with    100000 initial photons.\n",
      "  Charge:      0 -> Sensor prob: 0.000e+00\n",
      "\n",
      "* Getting data from NEXT_NEW - Distance: (30.0, -6.0) ...\n",
      "  /Users/Javi/Development/NextLightTable/data/NEXT_NEW/dst/NEXT_NEW.x_55.0.y_25.0.z_-5.5.next.h5\n",
      "  Simulation run with    100000 initial photons.\n",
      "  Charge:      0 -> Sensor prob: 0.000e+00\n",
      "\n",
      "* Getting data from NEXT_NEW - Distance: (60.0, -1.0) ...\n",
      "  /Users/Javi/Development/NextLightTable/data/NEXT_NEW/dst/NEXT_NEW.x_85.0.y_25.0.z_-0.5.next.h5\n",
      "  Simulation run with    100000 initial photons.\n",
      "  Charge:      0 -> Sensor prob: 0.000e+00\n",
      "\n",
      "* Getting data from NEXT_NEW - Distance: (60.0, -2.0) ...\n",
      "  /Users/Javi/Development/NextLightTable/data/NEXT_NEW/dst/NEXT_NEW.x_85.0.y_25.0.z_-1.5.next.h5\n",
      "  Simulation run with    100000 initial photons.\n",
      "  Charge:      1 -> Sensor prob: 1.000e-05\n",
      "\n",
      "* Getting data from NEXT_NEW - Distance: (60.0, -3.0) ...\n",
      "  /Users/Javi/Development/NextLightTable/data/NEXT_NEW/dst/NEXT_NEW.x_85.0.y_25.0.z_-2.5.next.h5\n",
      "  Simulation run with    100000 initial photons.\n",
      "  Charge:      0 -> Sensor prob: 0.000e+00\n",
      "\n",
      "* Getting data from NEXT_NEW - Distance: (60.0, -4.0) ...\n",
      "  /Users/Javi/Development/NextLightTable/data/NEXT_NEW/dst/NEXT_NEW.x_85.0.y_25.0.z_-3.5.next.h5\n",
      "  Simulation run with    100000 initial photons.\n",
      "  Charge:      0 -> Sensor prob: 0.000e+00\n",
      "\n",
      "* Getting data from NEXT_NEW - Distance: (60.0, -5.0) ...\n",
      "  /Users/Javi/Development/NextLightTable/data/NEXT_NEW/dst/NEXT_NEW.x_85.0.y_25.0.z_-4.5.next.h5\n",
      "  Simulation run with    100000 initial photons.\n",
      "  Charge:      0 -> Sensor prob: 0.000e+00\n",
      "\n",
      "* Getting data from NEXT_NEW - Distance: (60.0, -6.0) ...\n",
      "  /Users/Javi/Development/NextLightTable/data/NEXT_NEW/dst/NEXT_NEW.x_85.0.y_25.0.z_-5.5.next.h5\n",
      "  Simulation run with    100000 initial photons.\n",
      "  Charge:      0 -> Sensor prob: 0.000e+00\n"
     ]
    }
   ],
   "source": [
    "light_table = build_table(det_name, table_type, signal_type, sensor_name, pitch)"
   ]
  },
  {
   "cell_type": "code",
   "execution_count": 17,
   "metadata": {},
   "outputs": [
    {
     "data": {
      "text/html": [
       "<div>\n",
       "<style scoped>\n",
       "    .dataframe tbody tr th:only-of-type {\n",
       "        vertical-align: middle;\n",
       "    }\n",
       "\n",
       "    .dataframe tbody tr th {\n",
       "        vertical-align: top;\n",
       "    }\n",
       "\n",
       "    .dataframe thead th {\n",
       "        text-align: right;\n",
       "    }\n",
       "</style>\n",
       "<table border=\"1\" class=\"dataframe\">\n",
       "  <thead>\n",
       "    <tr style=\"text-align: right;\">\n",
       "      <th></th>\n",
       "      <th>z_m1</th>\n",
       "      <th>z_m2</th>\n",
       "      <th>z_m3</th>\n",
       "      <th>z_m4</th>\n",
       "      <th>z_m5</th>\n",
       "      <th>z_m6</th>\n",
       "    </tr>\n",
       "    <tr>\n",
       "      <th>dist_xy</th>\n",
       "      <th></th>\n",
       "      <th></th>\n",
       "      <th></th>\n",
       "      <th></th>\n",
       "      <th></th>\n",
       "      <th></th>\n",
       "    </tr>\n",
       "  </thead>\n",
       "  <tbody>\n",
       "    <tr>\n",
       "      <th>0.0</th>\n",
       "      <td>0.00004</td>\n",
       "      <td>0.00007</td>\n",
       "      <td>0.00005</td>\n",
       "      <td>0.00014</td>\n",
       "      <td>0.00014</td>\n",
       "      <td>0.00017</td>\n",
       "    </tr>\n",
       "    <tr>\n",
       "      <th>30.0</th>\n",
       "      <td>0.00000</td>\n",
       "      <td>0.00000</td>\n",
       "      <td>0.00000</td>\n",
       "      <td>0.00000</td>\n",
       "      <td>0.00000</td>\n",
       "      <td>0.00000</td>\n",
       "    </tr>\n",
       "    <tr>\n",
       "      <th>60.0</th>\n",
       "      <td>0.00000</td>\n",
       "      <td>0.00001</td>\n",
       "      <td>0.00000</td>\n",
       "      <td>0.00000</td>\n",
       "      <td>0.00000</td>\n",
       "      <td>0.00000</td>\n",
       "    </tr>\n",
       "  </tbody>\n",
       "</table>\n",
       "</div>"
      ],
      "text/plain": [
       "            z_m1     z_m2     z_m3     z_m4     z_m5     z_m6\n",
       "dist_xy                                                      \n",
       "0.0      0.00004  0.00007  0.00005  0.00014  0.00014  0.00017\n",
       "30.0     0.00000  0.00000  0.00000  0.00000  0.00000  0.00000\n",
       "60.0     0.00000  0.00001  0.00000  0.00000  0.00000  0.00000"
      ]
     },
     "execution_count": 17,
     "metadata": {},
     "output_type": "execute_result"
    }
   ],
   "source": [
    "light_table.head()"
   ]
  },
  {
   "cell_type": "code",
   "execution_count": 18,
   "metadata": {},
   "outputs": [
    {
     "name": "stdout",
     "output_type": "stream",
     "text": [
      "\n",
      "*** Storing Light Table in /Users/Javi/Development/NextLightTable/data/NEXT_NEW/table/NEXT_NEW.tracking.S2.SiPM.LightTable.h5 ...\n"
     ]
    }
   ],
   "source": [
    "# Storing the DataFrame\n",
    "light_table_fname = table_path + get_table_fname(det_name, table_type,\n",
    "                                                 signal_type, sensor_name)\n",
    "\n",
    "if VERBOSITY:\n",
    "    print(f\"\\n*** Storing Light Table in {light_table_fname} ...\")\n",
    "\n",
    "light_table.to_hdf(light_table_fname, '/LightTable', mode   = 'w',\n",
    "                   format = 'table', data_columns = True)"
   ]
  },
  {
   "cell_type": "code",
   "execution_count": null,
   "metadata": {},
   "outputs": [],
   "source": []
  }
 ],
 "metadata": {
  "kernelspec": {
   "display_name": "Python 3",
   "language": "python",
   "name": "python3"
  },
  "language_info": {
   "codemirror_mode": {
    "name": "ipython",
    "version": 3
   },
   "file_extension": ".py",
   "mimetype": "text/x-python",
   "name": "python",
   "nbconvert_exporter": "python",
   "pygments_lexer": "ipython3",
   "version": "3.7.1"
  }
 },
 "nbformat": 4,
 "nbformat_minor": 2
}
