{
 "cells": [
  {
   "cell_type": "markdown",
   "metadata": {},
   "source": [
    "<p style=\"font-family: Arial; font-size:3.75em;color:purple; font-style:bold\"><br>\n",
    "LIGHT TABLE - GENERATION</p><br>"
   ]
  },
  {
   "cell_type": "markdown",
   "metadata": {},
   "source": [
    "This notebook generate Light Tables based on nexus full-simulations of light, generating a DataFrame that should be used by DetSim."
   ]
  },
  {
   "cell_type": "markdown",
   "metadata": {},
   "source": [
    "TAREAS POR IMPLEMENTAR:\n",
    "\n",
    "* Descripcion de lo que hace cada una de las funciones y sus parametros\n",
    "* Anyadir Tablas de Configuracion a la salida\n",
    "* Leer el setup de un fichero de configuracion\n",
    "* Anyadir tests\n",
    "* Posibilidad de muestrear los volumenes / areas con un patron asimetrico (mas denso a radios altos, para reflejar mejor los cambios que se producen cerca de los bordes).\n",
    "* Usar ThreeVectors de IC para el pitch y posiciones ??\n",
    "* Aprender a fraccionar el envío de jobs a las colas, porque un job por punto son demasiados.\n",
    "* Hacer el setting de IC y de NEXUS desde las funciones, no desde el terminal\n",
    "* Anyadir la opcion de correr n numero de eventos por fichero y así correr más eventos por fichero, y menos fotones por evento de manera que necesitemos menos memoria.\n",
    "* Anyadir tests de que las simulaciones han corrido bien en las colas."
   ]
  },
  {
   "cell_type": "code",
   "execution_count": 1,
   "metadata": {},
   "outputs": [
    {
     "data": {
      "text/html": [
       "<style>body {\n",
       "    margin: 0;\n",
       "    font-family: Helvetica;\n",
       "}\n",
       "table.dataframe {\n",
       "    border-collapse: collapse;\n",
       "    border: none;\n",
       "}\n",
       "table.dataframe tr {\n",
       "    border: none;\n",
       "}\n",
       "table.dataframe td, table.dataframe th {\n",
       "    margin: 0;\n",
       "    border: 1px solid white;\n",
       "    padding-left: 0.25em;\n",
       "    padding-right: 0.25em;\n",
       "}\n",
       "table.dataframe th:not(:empty) {\n",
       "    background-color: #fec;\n",
       "    text-align: left;\n",
       "    font-weight: normal;\n",
       "}\n",
       "table.dataframe tr:nth-child(2) th:empty {\n",
       "    border-left: none;\n",
       "    border-right: 1px dashed #888;\n",
       "}\n",
       "table.dataframe td {\n",
       "    border: 2px solid #ccf;\n",
       "    background-color: #f4f4ff;\n",
       "}\n",
       "h3 {\n",
       "    color: white;\n",
       "    background-color: black;\n",
       "    padding: 0.5em;\n",
       "}\n",
       "</style>"
      ],
      "text/plain": [
       "<IPython.core.display.HTML object>"
      ]
     },
     "execution_count": 1,
     "metadata": {},
     "output_type": "execute_result"
    }
   ],
   "source": [
    "from IPython.core.display import HTML\n",
    "css = open('css/style-table.css').read() + open('css/style-notebook.css').read()\n",
    "HTML('<style>{}</style>'.format(css))"
   ]
  },
  {
   "cell_type": "code",
   "execution_count": 2,
   "metadata": {},
   "outputs": [],
   "source": [
    "# General importings\n",
    "import os\n",
    "import numpy  as np\n",
    "import pandas as pd\n",
    "\n",
    "from math import ceil\n",
    "\n",
    "# Specific IC stuff\n",
    "import invisible_cities.core.system_of_units  as units\n",
    "from invisible_cities.io.mcinfo_io        import load_mcsensor_response_df\n",
    "from invisible_cities.io.mcinfo_io        import get_sensor_types\n",
    "\n",
    "\n",
    "# Light Table stuff\n",
    "from sim_functions   import make_init_file\n",
    "from sim_functions   import make_config_file\n",
    "from sim_functions   import get_num_photons\n",
    "from sim_functions   import run_sim\n",
    "\n",
    "from table_functions import get_table_positions\n",
    "from table_functions import get_working_paths\n"
   ]
  },
  {
   "cell_type": "code",
   "execution_count": null,
   "metadata": {},
   "outputs": [],
   "source": []
  },
  {
   "cell_type": "markdown",
   "metadata": {},
   "source": [
    "# SETUP DATA"
   ]
  },
  {
   "cell_type": "code",
   "execution_count": 3,
   "metadata": {},
   "outputs": [],
   "source": [
    "VERBOSITY = True"
   ]
  },
  {
   "cell_type": "code",
   "execution_count": 4,
   "metadata": {},
   "outputs": [],
   "source": [
    "MAX_PHOTONS_PER_EVT = 1000000"
   ]
  },
  {
   "cell_type": "code",
   "execution_count": 9,
   "metadata": {},
   "outputs": [
    {
     "name": "stdout",
     "output_type": "stream",
     "text": [
      "*****  NEXT_NEW - S2 - PmtR11410  Light Table  *****\n",
      "* pitch: (200.0, 200.0, 200.0) mm\n"
     ]
    }
   ],
   "source": [
    "# Current options: \"NEXT_NEW\", \"NEXT100\", \"NEXT_FLEX\"\n",
    "det_name = \"NEXT_NEW\"\n",
    "\n",
    "# Type of Light Table: S1 or S2\n",
    "table_type = \"S2\"\n",
    "\n",
    "# Detector Type (it will be PmtR11410) for most of the geometries\n",
    "# but it could be \"FIBER_SENSOR\" for the flexible geometry\n",
    "sns_type = \"PmtR11410\"\n",
    "\n",
    "# Table pitch\n",
    "pitch = (200.0 * units.mm, 200.0 * units.mm, 200.0 * units.mm)\n",
    "#pitch = (20.0 * units.mm, 20.0 * units.mm, 40.0 * units.mm)\n",
    "\n",
    "# Table num photons / point\n",
    "photons_per_point = 100000\n",
    "\n",
    "# Verbosity\n",
    "if VERBOSITY:\n",
    "    print(f\"*****  {det_name} - {table_type} - {sns_type}  Light Table  *****\")\n",
    "    print(f\"* pitch: {pitch} mm\")"
   ]
  },
  {
   "cell_type": "code",
   "execution_count": 10,
   "metadata": {},
   "outputs": [
    {
     "name": "stdout",
     "output_type": "stream",
     "text": [
      "* Photons/point: 1.0e+05  ->  \n",
      "  Num Events: 1 of 1e+05 photons/event\n"
     ]
    }
   ],
   "source": [
    "# Getting (num_evts / file) & num_evts\n",
    "photons_per_event = photons_per_point\n",
    "num_evts = ceil(photons_per_point / MAX_PHOTONS_PER_EVT)\n",
    "\n",
    "if num_evts > 1:\n",
    "    photons_per_event = MAX_PHOTONS_PER_EVT\n",
    "\n",
    "# Verbosity\n",
    "if VERBOSITY:\n",
    "    print(f\"* Photons/point: {photons_per_point:.1e}  ->  \")\n",
    "    print(f\"  Num Events: {num_evts} of {photons_per_event:.0e} photons/event\")\n",
    "    "
   ]
  },
  {
   "cell_type": "code",
   "execution_count": 11,
   "metadata": {},
   "outputs": [
    {
     "name": "stdout",
     "output_type": "stream",
     "text": [
      "* NEXT_NEW - S2 table -> 3 points.\n",
      "[(-8, -8, 0), (-8, 192, 0), (192, -8, 0)]\n"
     ]
    }
   ],
   "source": [
    "table_positions = get_table_positions(det_name, table_type, pitch)\n",
    "#table_positions = [(0,0,100), (0,0,200)]\n",
    "\n",
    "# Vervosity\n",
    "if VERBOSITY:\n",
    "    print(f\"* {det_name} - {table_type} table -> {len(table_positions)} points.\")\n",
    "    print(table_positions)"
   ]
  },
  {
   "cell_type": "code",
   "execution_count": 12,
   "metadata": {},
   "outputs": [
    {
     "name": "stdout",
     "output_type": "stream",
     "text": [
      "* Config PATH: /Users/Javi/Development/NextLightTable/data/NEXT_NEW/config/\n",
      "* Log    PATH: /Users/Javi/Development/NextLightTable/data/NEXT_NEW/log/\n",
      "* Dst    PATH: /Users/Javi/Development/NextLightTable/data/NEXT_NEW/dst/\n",
      "* Table  PATH: /Users/Javi/Development/NextLightTable/data/NEXT_NEW/table/\n"
     ]
    }
   ],
   "source": [
    "# Getting PATHS\n",
    "config_path, log_path, dst_path, table_path = get_working_paths(det_name)\n",
    "\n",
    "# Verbosity\n",
    "if VERBOSITY:\n",
    "    print(f\"* Config PATH: {config_path}\")\n",
    "    print(f\"* Log    PATH: {log_path}\")\n",
    "    print(f\"* Dst    PATH: {dst_path}\")\n",
    "    print(f\"* Table  PATH: {table_path}\")"
   ]
  },
  {
   "cell_type": "markdown",
   "metadata": {},
   "source": [
    "# LIGHT SIMULATIONS"
   ]
  },
  {
   "cell_type": "code",
   "execution_count": 13,
   "metadata": {},
   "outputs": [
    {
     "name": "stdout",
     "output_type": "stream",
     "text": [
      "* Runing NEXT_NEW sim of 1.0e+05 photons from (-8, -8, 0) ...\n",
      "  Simulation already run previously with less events, so re-running ...\n",
      "* Runing NEXT_NEW sim of 1.0e+05 photons from (-8, 192, 0) ...\n",
      "* Runing NEXT_NEW sim of 1.0e+05 photons from (192, -8, 0) ...\n"
     ]
    }
   ],
   "source": [
    "for pos in table_positions:\n",
    "    \n",
    "    # file names\n",
    "    base_fname = f\"{det_name}.x_{pos[0]}.y_{pos[1]}.z_{pos[2]}\"\n",
    "\n",
    "    init_fname   = config_path + base_fname + \".init\"\n",
    "    config_fname = config_path + base_fname + \".config\"\n",
    "    log_fname    = log_path    + base_fname + \".log\"\n",
    "    dst_fname    = dst_path    + base_fname + \".next\"\n",
    "    \n",
    "    # make configuration files\n",
    "    make_init_file(det_name, init_fname, config_fname)\n",
    "    \n",
    "    make_config_file(det_name, config_fname, dst_fname,\n",
    "                     pos[0], pos[1], pos[2],\n",
    "                     photons_per_event)\n",
    "    \n",
    "    # Runing the simulation\n",
    "    if VERBOSITY:\n",
    "        print(f\"* Runing {det_name} sim of {photons_per_point:.1e} photons from {pos} ...\")\n",
    "        \n",
    "    # Check if the sim is already run with the correct num_photons\n",
    "    if os.path.isfile(dst_fname + '.h5'):\n",
    "        run_photons = get_num_photons(dst_fname + '.h5')\n",
    "        if (get_num_photons(dst_fname + '.h5') < photons_per_point):\n",
    "            print(\"  Simulation already run previously with less events, so re-running ...\")\n",
    "            run_sim(init_fname, log_fname, num_evts)\n",
    "        else:\n",
    "            print(\"  Simulation already run previously, so skipping ...\")\n",
    "    \n",
    "    else:\n",
    "        run_sim(init_fname, log_fname, num_evts)"
   ]
  },
  {
   "cell_type": "code",
   "execution_count": null,
   "metadata": {},
   "outputs": [],
   "source": []
  },
  {
   "cell_type": "markdown",
   "metadata": {},
   "source": [
    "# TABLE GENERATION"
   ]
  },
  {
   "cell_type": "markdown",
   "metadata": {},
   "source": [
    "Initial list to be filled with data.\n",
    "\n",
    "It is the seed of the Light Table DataFrame."
   ]
  },
  {
   "cell_type": "code",
   "execution_count": 14,
   "metadata": {},
   "outputs": [],
   "source": [
    "# Getting the list of sensors from the first dst file\n",
    "pos          = table_positions[0]\n",
    "\n",
    "base_fname   = f\"{det_name}.x_{pos[0]}.y_{pos[1]}.z_{pos[2]}\"\n",
    "dst_fname    = dst_path + base_fname + \".next.h5\"\n",
    "sensor_types = get_sensor_types(dst_fname)\n",
    "\n",
    "# Add check that the number of sensors is the expected one"
   ]
  },
  {
   "cell_type": "code",
   "execution_count": 15,
   "metadata": {},
   "outputs": [],
   "source": [
    "sensor_ids = sensor_types[sensor_types.sensor_name == sns_type].sensor_id.tolist()\n",
    "sensor_ids.sort()"
   ]
  },
  {
   "cell_type": "code",
   "execution_count": 16,
   "metadata": {},
   "outputs": [],
   "source": [
    "light_table_columns = np.append(['x', 'y', 'z'], np.append(sensor_ids, 'total'))\n",
    "light_table_data    = []"
   ]
  },
  {
   "cell_type": "code",
   "execution_count": 17,
   "metadata": {},
   "outputs": [
    {
     "name": "stdout",
     "output_type": "stream",
     "text": [
      "\n",
      "* Getting data from NEXT_NEW - (-8, -8, 0) ...\n",
      "  Simulation run with    100000 initial photons.\n",
      "\n",
      "* Getting data from NEXT_NEW - (-8, 192, 0) ...\n",
      "  Simulation run with    100000 initial photons.\n",
      "\n",
      "* Getting data from NEXT_NEW - (192, -8, 0) ...\n",
      "  Simulation run with    100000 initial photons.\n"
     ]
    }
   ],
   "source": [
    "# Getting the table data from sims\n",
    "for pos in table_positions:\n",
    "    \n",
    "    # Verbosity\n",
    "    if VERBOSITY:\n",
    "        print(f\"\\n* Getting data from {det_name} - {pos} ...\")\n",
    "\n",
    "    # Getting the right DST file name\n",
    "    base_fname = f\"{det_name}.x_{pos[0]}.y_{pos[1]}.z_{pos[2]}\"\n",
    "    dst_fname  = dst_path + base_fname + \".next.h5\"\n",
    "    \n",
    "    # Add a check that the position is the expected one ??\n",
    "    # Add check that the number of sensors is the expected one\n",
    "    if os.path.isfile(dst_fname):\n",
    "    \n",
    "        # Getting the number of photons from the file, as it could be different\n",
    "        # from the one included in the setup.\n",
    "        num_photons = get_num_photons(dst_fname)\n",
    "        \n",
    "        # Getting the sensor response of the sns_type requested\n",
    "        sns_response = load_mcsensor_response_df(dst_fname, sns_name = sns_type)\n",
    "        sns_charge = sns_response.groupby('sensor_id').charge.sum().tolist()\n",
    "        sns_charge   = np.divide(sns_charge, num_photons)\n",
    "        sns_charge   = np.append(sns_charge, sum(sns_charge))\n",
    "    \n",
    "        # Composing & storing this position data\n",
    "        pos_data = np.append([pos[0], pos[1], pos[2]], sns_charge)\n",
    "        light_table_data.append(pos_data)\n",
    "        \n",
    "        # Verbosity\n",
    "        if VERBOSITY:\n",
    "            print(f\"  Simulation run with {num_photons:9} initial photons.\")\n",
    "            #print(f\"  {sns_type} behaviour: {sns_response.charge.describe()}\")\n",
    "\n",
    "    # If the DST file does NOT EXIST\n",
    "    else:\n",
    "        print(f\"  WARNING: {dst_fname} NOT exist.\")\n"
   ]
  },
  {
   "cell_type": "code",
   "execution_count": 22,
   "metadata": {
    "scrolled": true
   },
   "outputs": [
    {
     "data": {
      "text/html": [
       "<div>\n",
       "<style scoped>\n",
       "    .dataframe tbody tr th:only-of-type {\n",
       "        vertical-align: middle;\n",
       "    }\n",
       "\n",
       "    .dataframe tbody tr th {\n",
       "        vertical-align: top;\n",
       "    }\n",
       "\n",
       "    .dataframe thead th {\n",
       "        text-align: right;\n",
       "    }\n",
       "</style>\n",
       "<table border=\"1\" class=\"dataframe\">\n",
       "  <thead>\n",
       "    <tr style=\"text-align: right;\">\n",
       "      <th></th>\n",
       "      <th></th>\n",
       "      <th>PmtR11410_0</th>\n",
       "      <th>PmtR11410_1</th>\n",
       "      <th>PmtR11410_2</th>\n",
       "      <th>PmtR11410_3</th>\n",
       "      <th>PmtR11410_4</th>\n",
       "      <th>PmtR11410_5</th>\n",
       "      <th>PmtR11410_6</th>\n",
       "      <th>PmtR11410_7</th>\n",
       "      <th>PmtR11410_8</th>\n",
       "      <th>PmtR11410_9</th>\n",
       "      <th>PmtR11410_10</th>\n",
       "      <th>PmtR11410_11</th>\n",
       "      <th>PmtR11410_total</th>\n",
       "    </tr>\n",
       "    <tr>\n",
       "      <th>x</th>\n",
       "      <th>y</th>\n",
       "      <th></th>\n",
       "      <th></th>\n",
       "      <th></th>\n",
       "      <th></th>\n",
       "      <th></th>\n",
       "      <th></th>\n",
       "      <th></th>\n",
       "      <th></th>\n",
       "      <th></th>\n",
       "      <th></th>\n",
       "      <th></th>\n",
       "      <th></th>\n",
       "      <th></th>\n",
       "    </tr>\n",
       "  </thead>\n",
       "  <tbody>\n",
       "    <tr>\n",
       "      <th rowspan=\"2\" valign=\"top\">-8.0</th>\n",
       "      <th>-8.0</th>\n",
       "      <td>0.00033</td>\n",
       "      <td>0.00040</td>\n",
       "      <td>0.00034</td>\n",
       "      <td>0.00017</td>\n",
       "      <td>0.00022</td>\n",
       "      <td>0.00013</td>\n",
       "      <td>0.00019</td>\n",
       "      <td>0.00015</td>\n",
       "      <td>0.00021</td>\n",
       "      <td>0.00021</td>\n",
       "      <td>0.00014</td>\n",
       "      <td>0.00022</td>\n",
       "      <td>0.00271</td>\n",
       "    </tr>\n",
       "    <tr>\n",
       "      <th>192.0</th>\n",
       "      <td>0.00025</td>\n",
       "      <td>0.00028</td>\n",
       "      <td>0.00028</td>\n",
       "      <td>0.00021</td>\n",
       "      <td>0.00021</td>\n",
       "      <td>0.00016</td>\n",
       "      <td>0.00032</td>\n",
       "      <td>0.00014</td>\n",
       "      <td>0.00012</td>\n",
       "      <td>0.00024</td>\n",
       "      <td>0.00017</td>\n",
       "      <td>0.00017</td>\n",
       "      <td>0.00255</td>\n",
       "    </tr>\n",
       "    <tr>\n",
       "      <th>192.0</th>\n",
       "      <th>-8.0</th>\n",
       "      <td>0.00019</td>\n",
       "      <td>0.00025</td>\n",
       "      <td>0.00020</td>\n",
       "      <td>0.00025</td>\n",
       "      <td>0.00011</td>\n",
       "      <td>0.00011</td>\n",
       "      <td>0.00016</td>\n",
       "      <td>0.00014</td>\n",
       "      <td>0.00027</td>\n",
       "      <td>0.00019</td>\n",
       "      <td>0.00018</td>\n",
       "      <td>0.00025</td>\n",
       "      <td>0.00230</td>\n",
       "    </tr>\n",
       "  </tbody>\n",
       "</table>\n",
       "</div>"
      ],
      "text/plain": [
       "               PmtR11410_0  PmtR11410_1  PmtR11410_2  PmtR11410_3  \\\n",
       "x      y                                                            \n",
       "-8.0   -8.0        0.00033      0.00040      0.00034      0.00017   \n",
       "        192.0      0.00025      0.00028      0.00028      0.00021   \n",
       " 192.0 -8.0        0.00019      0.00025      0.00020      0.00025   \n",
       "\n",
       "               PmtR11410_4  PmtR11410_5  PmtR11410_6  PmtR11410_7  \\\n",
       "x      y                                                            \n",
       "-8.0   -8.0        0.00022      0.00013      0.00019      0.00015   \n",
       "        192.0      0.00021      0.00016      0.00032      0.00014   \n",
       " 192.0 -8.0        0.00011      0.00011      0.00016      0.00014   \n",
       "\n",
       "               PmtR11410_8  PmtR11410_9  PmtR11410_10  PmtR11410_11  \\\n",
       "x      y                                                              \n",
       "-8.0   -8.0        0.00021      0.00021       0.00014       0.00022   \n",
       "        192.0      0.00012      0.00024       0.00017       0.00017   \n",
       " 192.0 -8.0        0.00027      0.00019       0.00018       0.00025   \n",
       "\n",
       "               PmtR11410_total  \n",
       "x      y                        \n",
       "-8.0   -8.0            0.00271  \n",
       "        192.0          0.00255  \n",
       " 192.0 -8.0            0.00230  "
      ]
     },
     "execution_count": 22,
     "metadata": {},
     "output_type": "execute_result"
    }
   ],
   "source": [
    "### Building the LightTable DataFrame\n",
    "light_table = pd.DataFrame(light_table_data,\n",
    "                          columns = light_table_columns)\n",
    "\n",
    "# Setting indices\n",
    "if(table_type == 'S1'):\n",
    "    light_table.set_index(['x', 'y', 'z'], inplace = True)\n",
    "else:\n",
    "    light_table.drop(columns='z', inplace = True)\n",
    "    light_table.set_index(['x', 'y'], inplace = True)\n",
    "\n",
    "light_table.sort_index() # Not sure if needed to speed access\n",
    "\n",
    "light_table = light_table.rename(columns = lambda name: sns_type + '_' + name)\n",
    "\n",
    "light_table.head()"
   ]
  },
  {
   "cell_type": "code",
   "execution_count": 23,
   "metadata": {},
   "outputs": [
    {
     "name": "stdout",
     "output_type": "stream",
     "text": [
      "\n",
      "*** Storing Light Table in /Users/Javi/Development/NextLightTable/data/NEXT_NEW/table/NEXT_NEW.S2.PmtR11410.LightTable.h5 ...\n"
     ]
    }
   ],
   "source": [
    "# Storing the DataFrame\n",
    "\n",
    "light_table_fname = table_path + f\"{det_name}.{table_type}.{sns_type}.LightTable.h5\"\n",
    "\n",
    "if VERBOSITY:\n",
    "    print(f\"\\n*** Storing Light Table in {light_table_fname} ...\")\n",
    "\n",
    "light_table.to_hdf(light_table_fname, '/LightTable',\n",
    "                   mode   = 'w',\n",
    "                   format = 'table',\n",
    "                   data_columns = True)"
   ]
  },
  {
   "cell_type": "code",
   "execution_count": null,
   "metadata": {},
   "outputs": [],
   "source": []
  }
 ],
 "metadata": {
  "kernelspec": {
   "display_name": "Python 3",
   "language": "python",
   "name": "python3"
  },
  "language_info": {
   "codemirror_mode": {
    "name": "ipython",
    "version": 3
   },
   "file_extension": ".py",
   "mimetype": "text/x-python",
   "name": "python",
   "nbconvert_exporter": "python",
   "pygments_lexer": "ipython3",
   "version": "3.7.1"
  }
 },
 "nbformat": 4,
 "nbformat_minor": 2
}
